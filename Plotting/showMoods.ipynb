{
 "cells": [
  {
   "cell_type": "markdown",
   "metadata": {},
   "source": [
    "# MoodCube: plot Moods \n",
    "### take some data and display a 2D Surface plot"
   ]
  },
  {
   "cell_type": "code",
   "execution_count": null,
   "metadata": {
    "collapsed": false
   },
   "outputs": [],
   "source": [
    "# Library Imports and Python parameter settings\n",
    "%matplotlib inline\n",
    "from __future__ import division\n",
    "#import nds2\n",
    "import numpy as np\n",
    "import matplotlib.pyplot as plt\n",
    "#import matplotlib.mlab as mlab\n",
    "import scipy.signal as sig\n",
    "#import scipy.io.wavfile as wave\n",
    "\n",
    "\n",
    "debugme = 1\n",
    "# Update the matplotlib configuration parameters:\n",
    "plt.rcParams.update({'font.size': 20,\n",
    "                     'font.family': 'serif',\n",
    "                     'figure.figsize': (10, 8),\n",
    "                     'axes.grid': True,\n",
    "                     'grid.color': '#555555'})"
   ]
  },
  {
   "cell_type": "code",
   "execution_count": null,
   "metadata": {
    "collapsed": false
   },
   "outputs": [],
   "source": [
    "# this is the dimensions of the jellyfish\n",
    "z = np.random.randint(low=0, high=255, size=(8, 64, 3), dtype='uint8')\n",
    "print z.shape\n",
    "print z.dtype"
   ]
  },
  {
   "cell_type": "code",
   "execution_count": null,
   "metadata": {
    "collapsed": false
   },
   "outputs": [],
   "source": [
    "fig = plt.figure(figsize=(16, 8))\n",
    "#plt.loglog(aligo[:,0], sqrt(aligo[:,1]), color='Indigo', ls='--', alpha=0.65, lw=4)\n",
    "\n",
    "plt.imshow(z)\n",
    "\n",
    "#leg = plt.legend(loc='best', fancybox=True, fontsize=14)\n",
    "#leg.get_frame().set_alpha(0.5)\n",
    "#plt.savefig(\"TRY.pdf\", bbox_inches='tight')\n",
    "#plt.axis('tight')\n",
    "plt.show()"
   ]
  },
  {
   "cell_type": "code",
   "execution_count": null,
   "metadata": {
    "collapsed": false
   },
   "outputs": [],
   "source": [
    "dat = np.load('../Data/test.npz')\n",
    "v = dat['arr_0']\n",
    "plt.figure()\n",
    "#plt.plot(v[:,0])\n",
    "#plt.plot(v[:,1])\n",
    "plt.plot(v[:,2])\n",
    "plt.show()"
   ]
  },
  {
   "cell_type": "code",
   "execution_count": null,
   "metadata": {
    "collapsed": false
   },
   "outputs": [],
   "source": []
  },
  {
   "cell_type": "code",
   "execution_count": null,
   "metadata": {
    "collapsed": false
   },
   "outputs": [],
   "source": [
    "b = np.zeros((1000, 6))\n",
    "b.shape"
   ]
  },
  {
   "cell_type": "code",
   "execution_count": null,
   "metadata": {
    "collapsed": true
   },
   "outputs": [],
   "source": [
    "b[0] = [1,2,3,4,5,6]"
   ]
  },
  {
   "cell_type": "code",
   "execution_count": null,
   "metadata": {
    "collapsed": false
   },
   "outputs": [],
   "source": [
    "b[0]"
   ]
  },
  {
   "cell_type": "code",
   "execution_count": null,
   "metadata": {
    "collapsed": true
   },
   "outputs": [],
   "source": []
  }
 ],
 "metadata": {
  "anaconda-cloud": {},
  "kernelspec": {
   "display_name": "Python 2",
   "language": "python",
   "name": "python2"
  },
  "language_info": {
   "codemirror_mode": {
    "name": "ipython",
    "version": 2
   },
   "file_extension": ".py",
   "mimetype": "text/x-python",
   "name": "python",
   "nbconvert_exporter": "python",
   "pygments_lexer": "ipython2",
   "version": "2.7.13"
  }
 },
 "nbformat": 4,
 "nbformat_minor": 0
}
