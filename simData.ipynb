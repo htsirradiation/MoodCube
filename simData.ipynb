{
 "cells": [
  {
   "cell_type": "markdown",
   "metadata": {},
   "source": [
    "# make some fake Data\n",
    "## this generates some simulated data for use with the MoodCube Synapse\n",
    "### data is packaged to be used for reinforcement learning in the JellyFish"
   ]
  },
  {
   "cell_type": "code",
   "execution_count": null,
   "metadata": {
    "collapsed": true
   },
   "outputs": [],
   "source": [
    "%matplotlib inline\n",
    "\n",
    "from __future__ import division\n",
    "import matplotlib.cm as cm\n",
    "from matplotlib import rcParams\n",
    "import matplotlib.pyplot as plt\n",
    "import numpy as np\n",
    "#import os\n",
    "#import scipy.constants as scc\n",
    "from scipy.io import savemat\n",
    "from scipy.stats import rayleigh\n",
    "#import scipy.signal as sig\n",
    "#import sys\n",
    "from timeit import default_timer as timer\n",
    "\n",
    "#import tensorflow as tf\n",
    "#from keras.models import Sequential\n",
    "#from keras.layers import Dense, Activation\n",
    "\n",
    "# Now alter my matplotlib parameters \n",
    "rcParams.update({'axes.grid': True,\n",
    "                 'figure.facecolor': 'sienna',\n",
    "                 'axes.facecolor': 'black',\n",
    "                     'font.family': 'serif',\n",
    "                     'font.size': 8,\n",
    "                     'font.serif': 'Palatino Linotype',\n",
    "                     'grid.color': 'grey',\n",
    "                     'grid.linestyle': '-',\n",
    "                     'grid.alpha': 0.5,\n",
    "                     'grid.linewidth': 1,\n",
    "                     'legend.borderpad': 0.2,\n",
    "                     'legend.fancybox': True,\n",
    "                     'legend.fontsize': 8,\n",
    "                     'legend.framealpha': 0.7,\n",
    "                     'legend.handletextpad': 0.1,\n",
    "                     'legend.labelspacing': 0.2,\n",
    "                     'legend.loc': 'best',\n",
    "                     'lines.linewidth': 1.5,\n",
    "                     'savefig.bbox': 'tight',\n",
    "                     'savefig.pad_inches': 0.02,\n",
    "                     'savefig.dpi': 200,\n",
    "                     'text.usetex': False,\n",
    "                     'text.latex.preamble': r'\\usepackage{txfonts}',\n",
    "                     'figure.figsize': (7,4),\n",
    "                     })\n"
   ]
  },
  {
   "cell_type": "markdown",
   "metadata": {},
   "source": [
    "### Functions to make simulated Raspberry Pi data"
   ]
  },
  {
   "cell_type": "code",
   "execution_count": null,
   "metadata": {
    "collapsed": true
   },
   "outputs": [],
   "source": [
    "# temeprature sensorss\n",
    "def TemperatureData(t, T_0, dT):\n",
    "    T = T_0 * np.ones_like(t)   # average temperature is T_0 [deg C]\n",
    "    for ii in range(len(T)):\n",
    "        deltaT = np.random.normal(0, dT/100)\n",
    "        T[ii] = T[ii-1] + deltaT\n",
    "    \n",
    "    return T\n",
    "\n",
    "# random distance data from N UltraSonic proximity sensors\n",
    "def ProximityData(t, d_0, dx, N):\n",
    "    # average distance = d_0\n",
    "    # movement scale is dx\n",
    "    # number of prox sensors = N\n",
    "    d = d_0 * np.ones((len(t), N))   # average distance is d_0 [m]\n",
    "    for ii in range(len(t)):\n",
    "        for jj in range(N):\n",
    "            deltaX = np.random.normal(0, dx/100)\n",
    "            d[ii,jj] = d[ii-1,jj] + deltaX\n",
    "    \n",
    "    return d\n",
    "\n",
    "# simulate the spectral BL-MS output of a microphone\n",
    "def AudioSpectrumData(t, Nbands):\n",
    "    # Nbands = # of frequency bands\n",
    "    npts = len(t)\n",
    "    blms = np.zeros((npts, Nbands))\n",
    "    for jj in range(Nbands):\n",
    "        blms[:,jj] = rayleigh.rvs(size = npts)\n",
    "    \n",
    "    return blms"
   ]
  },
  {
   "cell_type": "markdown",
   "metadata": {},
   "source": [
    "### plot the fake data"
   ]
  },
  {
   "cell_type": "code",
   "execution_count": null,
   "metadata": {
    "collapsed": true
   },
   "outputs": [],
   "source": [
    "# mke some data\n",
    "fsample = 1     # [Hz]\n",
    "dur = 10 * 60   # seconds\n",
    "tt = np.arange(start=0, stop=dur, step=1/fsample)\n",
    "\n",
    "Nprox = 4\n",
    "Nbands = 3\n",
    "d_mean = 50\n",
    "\n",
    "T    = TemperatureData(tt, 25, 2)         #  deg C\n",
    "ds   = ProximityData(tt, d_mean, 5, Nprox)   #  [cm]\n",
    "blms = AudioSpectrumData(tt, Nbands)      # decibels"
   ]
  },
  {
   "cell_type": "code",
   "execution_count": null,
   "metadata": {
    "collapsed": false
   },
   "outputs": [],
   "source": [
    "plt.figure(figsize=(10,4))\n",
    "cmap = cm.get_cmap('winter')\n",
    "\n",
    "plt.plot(tt, T/10, color='Red', label='Temperature')\n",
    "\n",
    "cmap = cm.get_cmap('winter')\n",
    "for pp in range(Nprox):\n",
    "    plt.plot(tt, ds[:,pp] / d_mean, c=cmap(pp/4),label='Prox ' + str(pp))\n",
    "\n",
    "cmap = cm.get_cmap('copper')\n",
    "for pp in range(Nbands):\n",
    "    plt.plot(tt, blms[:,pp], c=cmap(pp/4), label='Audio ' + str(pp), alpha=0.3)\n",
    "\n",
    "#plt.ylim([9, 2000])\n",
    "#plt.xlim([0,30])\n",
    "plt.xlabel('Time [s]')\n",
    "legg = plt.legend()\n",
    "for text in legg.get_texts():\n",
    "    plt.setp(text, color = 'orange')\n",
    "plt.show()"
   ]
  },
  {
   "cell_type": "code",
   "execution_count": null,
   "metadata": {
    "collapsed": true
   },
   "outputs": [],
   "source": [
    "# save ome data\n",
    "funame = 'Data/' + 'simEnvData.mat'\n",
    "savemat(funame,\n",
    "        mdict={'tt': tt, 'T': T, 'blms': blms, 'prox_data': ds},\n",
    "        do_compression=True)\n",
    "print(\"Data saved as \" + funame)"
   ]
  }
 ],
 "metadata": {
  "anaconda-cloud": {},
  "git": {
   "suppress_outputs": true
  },
  "kernelspec": {
   "display_name": "Python 2",
   "language": "python",
   "name": "python2"
  },
  "language_info": {
   "codemirror_mode": {
    "name": "ipython",
    "version": 2
   },
   "file_extension": ".py",
   "mimetype": "text/x-python",
   "name": "python",
   "nbconvert_exporter": "python",
   "pygments_lexer": "ipython2",
   "version": "2.7.13"
  }
 },
 "nbformat": 4,
 "nbformat_minor": 1
}
